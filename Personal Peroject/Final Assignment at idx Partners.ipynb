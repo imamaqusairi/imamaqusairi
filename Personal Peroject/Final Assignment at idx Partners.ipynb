{
  "cells": [
    {
      "cell_type": "markdown",
      "id": "39efe346",
      "metadata": {
        "id": "39efe346"
      },
      "source": [
        "# Data Scientist id/x Partnerts Virtual Internship Final Assignment\n",
        "\n",
        "### Business Problem \n",
        "A client (Lending company) want to mitigate risk from possibility of a loss from a borrowers's failure to repay a loan or meet contractual obligation\n",
        "\n",
        "### Objective\n",
        "Create a machine learning model to predict customer credit risk using dataset from id/x partners and prepare a visual media/analysis report to communicate the data to the client\n",
        "\n",
        "### Outline\n",
        "1. Import Modules & Data\n",
        "2. Data Cleaning & Data Manipulation\n",
        "3. Exploratory Data Analysis\n",
        "4. Building Machine Learning Model\n",
        "5. Training & Testing Model\n",
        "6. Model Evaluation"
      ]
    },
    {
      "cell_type": "markdown",
      "id": "24411aa3",
      "metadata": {
        "id": "24411aa3"
      },
      "source": [
        "### 1. Import Modules & Load Data"
      ]
    },
    {
      "cell_type": "markdown",
      "id": "ea019f73-8a4e-4229-8a6f-d72dfc8a37c4",
      "metadata": {
        "id": "ea019f73-8a4e-4229-8a6f-d72dfc8a37c4"
      },
      "source": [
        "### 1.1 Import Python Modules"
      ]
    },
    {
      "cell_type": "code",
      "execution_count": 1,
      "id": "c528f9c1",
      "metadata": {
        "id": "c528f9c1"
      },
      "outputs": [],
      "source": [
        "import pandas as pd \n",
        "import numpy as np\n",
        "import matplotlib.pyplot as plt\n",
        "import seaborn as sns\n",
        "import warnings\n",
        "warnings.filterwarnings('ignore')\n",
        "%matplotlib inline"
      ]
    },
    {
      "cell_type": "code",
      "execution_count": 2,
      "id": "c3703ed1-f908-4b02-bb62-84b3c4d5a12d",
      "metadata": {
        "id": "c3703ed1-f908-4b02-bb62-84b3c4d5a12d"
      },
      "outputs": [],
      "source": [
        "# setting max rows & cols display on jupyterlab\n",
        "from IPython.display import display\n",
        "\n",
        "pd.options.display.max_columns = None\n",
        "pd.options.display.max_rows = 10"
      ]
    },
    {
      "cell_type": "code",
      "source": [
        "from google.colab import drive"
      ],
      "metadata": {
        "id": "_1gNb2nEi9-1"
      },
      "id": "_1gNb2nEi9-1",
      "execution_count": 6,
      "outputs": []
    },
    {
      "cell_type": "code",
      "source": [
        "drive.mount('/content/drive')"
      ],
      "metadata": {
        "colab": {
          "base_uri": "https://localhost:8080/"
        },
        "id": "Hxljwv8FjhzE",
        "outputId": "b75c9e21-7979-4e05-98f2-a30493ef1c91"
      },
      "id": "Hxljwv8FjhzE",
      "execution_count": 7,
      "outputs": [
        {
          "output_type": "stream",
          "name": "stdout",
          "text": [
            "Mounted at /content/drive\n"
          ]
        }
      ]
    },
    {
      "cell_type": "markdown",
      "id": "427c5d73",
      "metadata": {
        "tags": [],
        "id": "427c5d73"
      },
      "source": [
        "### 1.2 Load Dataset"
      ]
    },
    {
      "cell_type": "code",
      "execution_count": 8,
      "id": "543af40e",
      "metadata": {
        "scrolled": true,
        "tags": [],
        "id": "543af40e"
      },
      "outputs": [],
      "source": [
        "df = pd.read_csv('/content/drive/MyDrive/Data/loan_data_2007_2014.csv')"
      ]
    },
    {
      "cell_type": "code",
      "execution_count": 9,
      "id": "2a967637-4a90-4d60-b196-f69ac838c248",
      "metadata": {
        "colab": {
          "base_uri": "https://localhost:8080/",
          "height": 652
        },
        "id": "2a967637-4a90-4d60-b196-f69ac838c248",
        "outputId": "34cfbf8a-f1de-4555-9496-3f71d2c70b11"
      },
      "outputs": [
        {
          "output_type": "execute_result",
          "data": {
            "text/plain": [
              "   Unnamed: 0       id  member_id  loan_amnt  funded_amnt  funded_amnt_inv  \\\n",
              "0           0  1077501    1296599       5000         5000           4975.0   \n",
              "1           1  1077430    1314167       2500         2500           2500.0   \n",
              "2           2  1077175    1313524       2400         2400           2400.0   \n",
              "3           3  1076863    1277178      10000        10000          10000.0   \n",
              "4           4  1075358    1311748       3000         3000           3000.0   \n",
              "\n",
              "         term  int_rate  installment grade sub_grade  \\\n",
              "0   36 months     10.65       162.87     B        B2   \n",
              "1   60 months     15.27        59.83     C        C4   \n",
              "2   36 months     15.96        84.33     C        C5   \n",
              "3   36 months     13.49       339.31     C        C1   \n",
              "4   60 months     12.69        67.79     B        B5   \n",
              "\n",
              "                  emp_title emp_length home_ownership  annual_inc  \\\n",
              "0                       NaN  10+ years           RENT     24000.0   \n",
              "1                     Ryder   < 1 year           RENT     30000.0   \n",
              "2                       NaN  10+ years           RENT     12252.0   \n",
              "3       AIR RESOURCES BOARD  10+ years           RENT     49200.0   \n",
              "4  University Medical Group     1 year           RENT     80000.0   \n",
              "\n",
              "  verification_status issue_d  loan_status pymnt_plan  \\\n",
              "0            Verified  Dec-11   Fully Paid          n   \n",
              "1     Source Verified  Dec-11  Charged Off          n   \n",
              "2        Not Verified  Dec-11   Fully Paid          n   \n",
              "3     Source Verified  Dec-11   Fully Paid          n   \n",
              "4     Source Verified  Dec-11      Current          n   \n",
              "\n",
              "                                                 url  \\\n",
              "0  https://www.lendingclub.com/browse/loanDetail....   \n",
              "1  https://www.lendingclub.com/browse/loanDetail....   \n",
              "2  https://www.lendingclub.com/browse/loanDetail....   \n",
              "3  https://www.lendingclub.com/browse/loanDetail....   \n",
              "4  https://www.lendingclub.com/browse/loanDetail....   \n",
              "\n",
              "                                                desc         purpose  \\\n",
              "0    Borrower added on 12/22/11 > I need to upgra...     credit_card   \n",
              "1    Borrower added on 12/22/11 > I plan to use t...             car   \n",
              "2                                                NaN  small_business   \n",
              "3    Borrower added on 12/21/11 > to pay for prop...           other   \n",
              "4    Borrower added on 12/21/11 > I plan on combi...           other   \n",
              "\n",
              "                  title zip_code addr_state    dti  delinq_2yrs  \\\n",
              "0              Computer    860xx         AZ  27.65          0.0   \n",
              "1                  bike    309xx         GA   1.00          0.0   \n",
              "2  real estate business    606xx         IL   8.72          0.0   \n",
              "3              personel    917xx         CA  20.00          0.0   \n",
              "4              Personal    972xx         OR  17.94          0.0   \n",
              "\n",
              "  earliest_cr_line  inq_last_6mths  mths_since_last_delinq  \\\n",
              "0           Jan-85             1.0                     NaN   \n",
              "1           Apr-99             5.0                     NaN   \n",
              "2           Nov-01             2.0                     NaN   \n",
              "3           Feb-96             1.0                    35.0   \n",
              "4           Jan-96             0.0                    38.0   \n",
              "\n",
              "   mths_since_last_record  open_acc  pub_rec  revol_bal  revol_util  \\\n",
              "0                     NaN       3.0      0.0      13648        83.7   \n",
              "1                     NaN       3.0      0.0       1687         9.4   \n",
              "2                     NaN       2.0      0.0       2956        98.5   \n",
              "3                     NaN      10.0      0.0       5598        21.0   \n",
              "4                     NaN      15.0      0.0      27783        53.9   \n",
              "\n",
              "   total_acc initial_list_status  out_prncp  out_prncp_inv   total_pymnt  \\\n",
              "0        9.0                   f        0.0            0.0   5861.071414   \n",
              "1        4.0                   f        0.0            0.0   1008.710000   \n",
              "2       10.0                   f        0.0            0.0   3003.653644   \n",
              "3       37.0                   f        0.0            0.0  12226.302210   \n",
              "4       38.0                   f      766.9          766.9   3242.170000   \n",
              "\n",
              "   total_pymnt_inv  total_rec_prncp  total_rec_int  total_rec_late_fee  \\\n",
              "0          5831.78          5000.00         861.07                0.00   \n",
              "1          1008.71           456.46         435.17                0.00   \n",
              "2          3003.65          2400.00         603.65                0.00   \n",
              "3         12226.30         10000.00        2209.33               16.97   \n",
              "4          3242.17          2233.10        1009.07                0.00   \n",
              "\n",
              "   recoveries  collection_recovery_fee last_pymnt_d  last_pymnt_amnt  \\\n",
              "0        0.00                     0.00       Jan-15           171.62   \n",
              "1      117.08                     1.11       Apr-13           119.66   \n",
              "2        0.00                     0.00       Jun-14           649.91   \n",
              "3        0.00                     0.00       Jan-15           357.48   \n",
              "4        0.00                     0.00       Jan-16            67.79   \n",
              "\n",
              "  next_pymnt_d last_credit_pull_d  collections_12_mths_ex_med  \\\n",
              "0          NaN             Jan-16                         0.0   \n",
              "1          NaN             Sep-13                         0.0   \n",
              "2          NaN             Jan-16                         0.0   \n",
              "3          NaN             Jan-15                         0.0   \n",
              "4       Feb-16             Jan-16                         0.0   \n",
              "\n",
              "   mths_since_last_major_derog  policy_code application_type  \\\n",
              "0                          NaN            1       INDIVIDUAL   \n",
              "1                          NaN            1       INDIVIDUAL   \n",
              "2                          NaN            1       INDIVIDUAL   \n",
              "3                          NaN            1       INDIVIDUAL   \n",
              "4                          NaN            1       INDIVIDUAL   \n",
              "\n",
              "   annual_inc_joint  dti_joint  verification_status_joint  acc_now_delinq  \\\n",
              "0               NaN        NaN                        NaN             0.0   \n",
              "1               NaN        NaN                        NaN             0.0   \n",
              "2               NaN        NaN                        NaN             0.0   \n",
              "3               NaN        NaN                        NaN             0.0   \n",
              "4               NaN        NaN                        NaN             0.0   \n",
              "\n",
              "   tot_coll_amt  tot_cur_bal  open_acc_6m  open_il_6m  open_il_12m  \\\n",
              "0           NaN          NaN          NaN         NaN          NaN   \n",
              "1           NaN          NaN          NaN         NaN          NaN   \n",
              "2           NaN          NaN          NaN         NaN          NaN   \n",
              "3           NaN          NaN          NaN         NaN          NaN   \n",
              "4           NaN          NaN          NaN         NaN          NaN   \n",
              "\n",
              "   open_il_24m  mths_since_rcnt_il  total_bal_il  il_util  open_rv_12m  \\\n",
              "0          NaN                 NaN           NaN      NaN          NaN   \n",
              "1          NaN                 NaN           NaN      NaN          NaN   \n",
              "2          NaN                 NaN           NaN      NaN          NaN   \n",
              "3          NaN                 NaN           NaN      NaN          NaN   \n",
              "4          NaN                 NaN           NaN      NaN          NaN   \n",
              "\n",
              "   open_rv_24m  max_bal_bc  all_util  total_rev_hi_lim  inq_fi  total_cu_tl  \\\n",
              "0          NaN         NaN       NaN               NaN     NaN          NaN   \n",
              "1          NaN         NaN       NaN               NaN     NaN          NaN   \n",
              "2          NaN         NaN       NaN               NaN     NaN          NaN   \n",
              "3          NaN         NaN       NaN               NaN     NaN          NaN   \n",
              "4          NaN         NaN       NaN               NaN     NaN          NaN   \n",
              "\n",
              "   inq_last_12m  \n",
              "0           NaN  \n",
              "1           NaN  \n",
              "2           NaN  \n",
              "3           NaN  \n",
              "4           NaN  "
            ],
            "text/html": [
              "\n",
              "  <div id=\"df-f37713c7-74a5-46f1-8b5c-84f8581b8cdb\">\n",
              "    <div class=\"colab-df-container\">\n",
              "      <div>\n",
              "<style scoped>\n",
              "    .dataframe tbody tr th:only-of-type {\n",
              "        vertical-align: middle;\n",
              "    }\n",
              "\n",
              "    .dataframe tbody tr th {\n",
              "        vertical-align: top;\n",
              "    }\n",
              "\n",
              "    .dataframe thead th {\n",
              "        text-align: right;\n",
              "    }\n",
              "</style>\n",
              "<table border=\"1\" class=\"dataframe\">\n",
              "  <thead>\n",
              "    <tr style=\"text-align: right;\">\n",
              "      <th></th>\n",
              "      <th>Unnamed: 0</th>\n",
              "      <th>id</th>\n",
              "      <th>member_id</th>\n",
              "      <th>loan_amnt</th>\n",
              "      <th>funded_amnt</th>\n",
              "      <th>funded_amnt_inv</th>\n",
              "      <th>term</th>\n",
              "      <th>int_rate</th>\n",
              "      <th>installment</th>\n",
              "      <th>grade</th>\n",
              "      <th>sub_grade</th>\n",
              "      <th>emp_title</th>\n",
              "      <th>emp_length</th>\n",
              "      <th>home_ownership</th>\n",
              "      <th>annual_inc</th>\n",
              "      <th>verification_status</th>\n",
              "      <th>issue_d</th>\n",
              "      <th>loan_status</th>\n",
              "      <th>pymnt_plan</th>\n",
              "      <th>url</th>\n",
              "      <th>desc</th>\n",
              "      <th>purpose</th>\n",
              "      <th>title</th>\n",
              "      <th>zip_code</th>\n",
              "      <th>addr_state</th>\n",
              "      <th>dti</th>\n",
              "      <th>delinq_2yrs</th>\n",
              "      <th>earliest_cr_line</th>\n",
              "      <th>inq_last_6mths</th>\n",
              "      <th>mths_since_last_delinq</th>\n",
              "      <th>mths_since_last_record</th>\n",
              "      <th>open_acc</th>\n",
              "      <th>pub_rec</th>\n",
              "      <th>revol_bal</th>\n",
              "      <th>revol_util</th>\n",
              "      <th>total_acc</th>\n",
              "      <th>initial_list_status</th>\n",
              "      <th>out_prncp</th>\n",
              "      <th>out_prncp_inv</th>\n",
              "      <th>total_pymnt</th>\n",
              "      <th>total_pymnt_inv</th>\n",
              "      <th>total_rec_prncp</th>\n",
              "      <th>total_rec_int</th>\n",
              "      <th>total_rec_late_fee</th>\n",
              "      <th>recoveries</th>\n",
              "      <th>collection_recovery_fee</th>\n",
              "      <th>last_pymnt_d</th>\n",
              "      <th>last_pymnt_amnt</th>\n",
              "      <th>next_pymnt_d</th>\n",
              "      <th>last_credit_pull_d</th>\n",
              "      <th>collections_12_mths_ex_med</th>\n",
              "      <th>mths_since_last_major_derog</th>\n",
              "      <th>policy_code</th>\n",
              "      <th>application_type</th>\n",
              "      <th>annual_inc_joint</th>\n",
              "      <th>dti_joint</th>\n",
              "      <th>verification_status_joint</th>\n",
              "      <th>acc_now_delinq</th>\n",
              "      <th>tot_coll_amt</th>\n",
              "      <th>tot_cur_bal</th>\n",
              "      <th>open_acc_6m</th>\n",
              "      <th>open_il_6m</th>\n",
              "      <th>open_il_12m</th>\n",
              "      <th>open_il_24m</th>\n",
              "      <th>mths_since_rcnt_il</th>\n",
              "      <th>total_bal_il</th>\n",
              "      <th>il_util</th>\n",
              "      <th>open_rv_12m</th>\n",
              "      <th>open_rv_24m</th>\n",
              "      <th>max_bal_bc</th>\n",
              "      <th>all_util</th>\n",
              "      <th>total_rev_hi_lim</th>\n",
              "      <th>inq_fi</th>\n",
              "      <th>total_cu_tl</th>\n",
              "      <th>inq_last_12m</th>\n",
              "    </tr>\n",
              "  </thead>\n",
              "  <tbody>\n",
              "    <tr>\n",
              "      <th>0</th>\n",
              "      <td>0</td>\n",
              "      <td>1077501</td>\n",
              "      <td>1296599</td>\n",
              "      <td>5000</td>\n",
              "      <td>5000</td>\n",
              "      <td>4975.0</td>\n",
              "      <td>36 months</td>\n",
              "      <td>10.65</td>\n",
              "      <td>162.87</td>\n",
              "      <td>B</td>\n",
              "      <td>B2</td>\n",
              "      <td>NaN</td>\n",
              "      <td>10+ years</td>\n",
              "      <td>RENT</td>\n",
              "      <td>24000.0</td>\n",
              "      <td>Verified</td>\n",
              "      <td>Dec-11</td>\n",
              "      <td>Fully Paid</td>\n",
              "      <td>n</td>\n",
              "      <td>https://www.lendingclub.com/browse/loanDetail....</td>\n",
              "      <td>Borrower added on 12/22/11 &gt; I need to upgra...</td>\n",
              "      <td>credit_card</td>\n",
              "      <td>Computer</td>\n",
              "      <td>860xx</td>\n",
              "      <td>AZ</td>\n",
              "      <td>27.65</td>\n",
              "      <td>0.0</td>\n",
              "      <td>Jan-85</td>\n",
              "      <td>1.0</td>\n",
              "      <td>NaN</td>\n",
              "      <td>NaN</td>\n",
              "      <td>3.0</td>\n",
              "      <td>0.0</td>\n",
              "      <td>13648</td>\n",
              "      <td>83.7</td>\n",
              "      <td>9.0</td>\n",
              "      <td>f</td>\n",
              "      <td>0.0</td>\n",
              "      <td>0.0</td>\n",
              "      <td>5861.071414</td>\n",
              "      <td>5831.78</td>\n",
              "      <td>5000.00</td>\n",
              "      <td>861.07</td>\n",
              "      <td>0.00</td>\n",
              "      <td>0.00</td>\n",
              "      <td>0.00</td>\n",
              "      <td>Jan-15</td>\n",
              "      <td>171.62</td>\n",
              "      <td>NaN</td>\n",
              "      <td>Jan-16</td>\n",
              "      <td>0.0</td>\n",
              "      <td>NaN</td>\n",
              "      <td>1</td>\n",
              "      <td>INDIVIDUAL</td>\n",
              "      <td>NaN</td>\n",
              "      <td>NaN</td>\n",
              "      <td>NaN</td>\n",
              "      <td>0.0</td>\n",
              "      <td>NaN</td>\n",
              "      <td>NaN</td>\n",
              "      <td>NaN</td>\n",
              "      <td>NaN</td>\n",
              "      <td>NaN</td>\n",
              "      <td>NaN</td>\n",
              "      <td>NaN</td>\n",
              "      <td>NaN</td>\n",
              "      <td>NaN</td>\n",
              "      <td>NaN</td>\n",
              "      <td>NaN</td>\n",
              "      <td>NaN</td>\n",
              "      <td>NaN</td>\n",
              "      <td>NaN</td>\n",
              "      <td>NaN</td>\n",
              "      <td>NaN</td>\n",
              "      <td>NaN</td>\n",
              "    </tr>\n",
              "    <tr>\n",
              "      <th>1</th>\n",
              "      <td>1</td>\n",
              "      <td>1077430</td>\n",
              "      <td>1314167</td>\n",
              "      <td>2500</td>\n",
              "      <td>2500</td>\n",
              "      <td>2500.0</td>\n",
              "      <td>60 months</td>\n",
              "      <td>15.27</td>\n",
              "      <td>59.83</td>\n",
              "      <td>C</td>\n",
              "      <td>C4</td>\n",
              "      <td>Ryder</td>\n",
              "      <td>&lt; 1 year</td>\n",
              "      <td>RENT</td>\n",
              "      <td>30000.0</td>\n",
              "      <td>Source Verified</td>\n",
              "      <td>Dec-11</td>\n",
              "      <td>Charged Off</td>\n",
              "      <td>n</td>\n",
              "      <td>https://www.lendingclub.com/browse/loanDetail....</td>\n",
              "      <td>Borrower added on 12/22/11 &gt; I plan to use t...</td>\n",
              "      <td>car</td>\n",
              "      <td>bike</td>\n",
              "      <td>309xx</td>\n",
              "      <td>GA</td>\n",
              "      <td>1.00</td>\n",
              "      <td>0.0</td>\n",
              "      <td>Apr-99</td>\n",
              "      <td>5.0</td>\n",
              "      <td>NaN</td>\n",
              "      <td>NaN</td>\n",
              "      <td>3.0</td>\n",
              "      <td>0.0</td>\n",
              "      <td>1687</td>\n",
              "      <td>9.4</td>\n",
              "      <td>4.0</td>\n",
              "      <td>f</td>\n",
              "      <td>0.0</td>\n",
              "      <td>0.0</td>\n",
              "      <td>1008.710000</td>\n",
              "      <td>1008.71</td>\n",
              "      <td>456.46</td>\n",
              "      <td>435.17</td>\n",
              "      <td>0.00</td>\n",
              "      <td>117.08</td>\n",
              "      <td>1.11</td>\n",
              "      <td>Apr-13</td>\n",
              "      <td>119.66</td>\n",
              "      <td>NaN</td>\n",
              "      <td>Sep-13</td>\n",
              "      <td>0.0</td>\n",
              "      <td>NaN</td>\n",
              "      <td>1</td>\n",
              "      <td>INDIVIDUAL</td>\n",
              "      <td>NaN</td>\n",
              "      <td>NaN</td>\n",
              "      <td>NaN</td>\n",
              "      <td>0.0</td>\n",
              "      <td>NaN</td>\n",
              "      <td>NaN</td>\n",
              "      <td>NaN</td>\n",
              "      <td>NaN</td>\n",
              "      <td>NaN</td>\n",
              "      <td>NaN</td>\n",
              "      <td>NaN</td>\n",
              "      <td>NaN</td>\n",
              "      <td>NaN</td>\n",
              "      <td>NaN</td>\n",
              "      <td>NaN</td>\n",
              "      <td>NaN</td>\n",
              "      <td>NaN</td>\n",
              "      <td>NaN</td>\n",
              "      <td>NaN</td>\n",
              "      <td>NaN</td>\n",
              "      <td>NaN</td>\n",
              "    </tr>\n",
              "    <tr>\n",
              "      <th>2</th>\n",
              "      <td>2</td>\n",
              "      <td>1077175</td>\n",
              "      <td>1313524</td>\n",
              "      <td>2400</td>\n",
              "      <td>2400</td>\n",
              "      <td>2400.0</td>\n",
              "      <td>36 months</td>\n",
              "      <td>15.96</td>\n",
              "      <td>84.33</td>\n",
              "      <td>C</td>\n",
              "      <td>C5</td>\n",
              "      <td>NaN</td>\n",
              "      <td>10+ years</td>\n",
              "      <td>RENT</td>\n",
              "      <td>12252.0</td>\n",
              "      <td>Not Verified</td>\n",
              "      <td>Dec-11</td>\n",
              "      <td>Fully Paid</td>\n",
              "      <td>n</td>\n",
              "      <td>https://www.lendingclub.com/browse/loanDetail....</td>\n",
              "      <td>NaN</td>\n",
              "      <td>small_business</td>\n",
              "      <td>real estate business</td>\n",
              "      <td>606xx</td>\n",
              "      <td>IL</td>\n",
              "      <td>8.72</td>\n",
              "      <td>0.0</td>\n",
              "      <td>Nov-01</td>\n",
              "      <td>2.0</td>\n",
              "      <td>NaN</td>\n",
              "      <td>NaN</td>\n",
              "      <td>2.0</td>\n",
              "      <td>0.0</td>\n",
              "      <td>2956</td>\n",
              "      <td>98.5</td>\n",
              "      <td>10.0</td>\n",
              "      <td>f</td>\n",
              "      <td>0.0</td>\n",
              "      <td>0.0</td>\n",
              "      <td>3003.653644</td>\n",
              "      <td>3003.65</td>\n",
              "      <td>2400.00</td>\n",
              "      <td>603.65</td>\n",
              "      <td>0.00</td>\n",
              "      <td>0.00</td>\n",
              "      <td>0.00</td>\n",
              "      <td>Jun-14</td>\n",
              "      <td>649.91</td>\n",
              "      <td>NaN</td>\n",
              "      <td>Jan-16</td>\n",
              "      <td>0.0</td>\n",
              "      <td>NaN</td>\n",
              "      <td>1</td>\n",
              "      <td>INDIVIDUAL</td>\n",
              "      <td>NaN</td>\n",
              "      <td>NaN</td>\n",
              "      <td>NaN</td>\n",
              "      <td>0.0</td>\n",
              "      <td>NaN</td>\n",
              "      <td>NaN</td>\n",
              "      <td>NaN</td>\n",
              "      <td>NaN</td>\n",
              "      <td>NaN</td>\n",
              "      <td>NaN</td>\n",
              "      <td>NaN</td>\n",
              "      <td>NaN</td>\n",
              "      <td>NaN</td>\n",
              "      <td>NaN</td>\n",
              "      <td>NaN</td>\n",
              "      <td>NaN</td>\n",
              "      <td>NaN</td>\n",
              "      <td>NaN</td>\n",
              "      <td>NaN</td>\n",
              "      <td>NaN</td>\n",
              "      <td>NaN</td>\n",
              "    </tr>\n",
              "    <tr>\n",
              "      <th>3</th>\n",
              "      <td>3</td>\n",
              "      <td>1076863</td>\n",
              "      <td>1277178</td>\n",
              "      <td>10000</td>\n",
              "      <td>10000</td>\n",
              "      <td>10000.0</td>\n",
              "      <td>36 months</td>\n",
              "      <td>13.49</td>\n",
              "      <td>339.31</td>\n",
              "      <td>C</td>\n",
              "      <td>C1</td>\n",
              "      <td>AIR RESOURCES BOARD</td>\n",
              "      <td>10+ years</td>\n",
              "      <td>RENT</td>\n",
              "      <td>49200.0</td>\n",
              "      <td>Source Verified</td>\n",
              "      <td>Dec-11</td>\n",
              "      <td>Fully Paid</td>\n",
              "      <td>n</td>\n",
              "      <td>https://www.lendingclub.com/browse/loanDetail....</td>\n",
              "      <td>Borrower added on 12/21/11 &gt; to pay for prop...</td>\n",
              "      <td>other</td>\n",
              "      <td>personel</td>\n",
              "      <td>917xx</td>\n",
              "      <td>CA</td>\n",
              "      <td>20.00</td>\n",
              "      <td>0.0</td>\n",
              "      <td>Feb-96</td>\n",
              "      <td>1.0</td>\n",
              "      <td>35.0</td>\n",
              "      <td>NaN</td>\n",
              "      <td>10.0</td>\n",
              "      <td>0.0</td>\n",
              "      <td>5598</td>\n",
              "      <td>21.0</td>\n",
              "      <td>37.0</td>\n",
              "      <td>f</td>\n",
              "      <td>0.0</td>\n",
              "      <td>0.0</td>\n",
              "      <td>12226.302210</td>\n",
              "      <td>12226.30</td>\n",
              "      <td>10000.00</td>\n",
              "      <td>2209.33</td>\n",
              "      <td>16.97</td>\n",
              "      <td>0.00</td>\n",
              "      <td>0.00</td>\n",
              "      <td>Jan-15</td>\n",
              "      <td>357.48</td>\n",
              "      <td>NaN</td>\n",
              "      <td>Jan-15</td>\n",
              "      <td>0.0</td>\n",
              "      <td>NaN</td>\n",
              "      <td>1</td>\n",
              "      <td>INDIVIDUAL</td>\n",
              "      <td>NaN</td>\n",
              "      <td>NaN</td>\n",
              "      <td>NaN</td>\n",
              "      <td>0.0</td>\n",
              "      <td>NaN</td>\n",
              "      <td>NaN</td>\n",
              "      <td>NaN</td>\n",
              "      <td>NaN</td>\n",
              "      <td>NaN</td>\n",
              "      <td>NaN</td>\n",
              "      <td>NaN</td>\n",
              "      <td>NaN</td>\n",
              "      <td>NaN</td>\n",
              "      <td>NaN</td>\n",
              "      <td>NaN</td>\n",
              "      <td>NaN</td>\n",
              "      <td>NaN</td>\n",
              "      <td>NaN</td>\n",
              "      <td>NaN</td>\n",
              "      <td>NaN</td>\n",
              "      <td>NaN</td>\n",
              "    </tr>\n",
              "    <tr>\n",
              "      <th>4</th>\n",
              "      <td>4</td>\n",
              "      <td>1075358</td>\n",
              "      <td>1311748</td>\n",
              "      <td>3000</td>\n",
              "      <td>3000</td>\n",
              "      <td>3000.0</td>\n",
              "      <td>60 months</td>\n",
              "      <td>12.69</td>\n",
              "      <td>67.79</td>\n",
              "      <td>B</td>\n",
              "      <td>B5</td>\n",
              "      <td>University Medical Group</td>\n",
              "      <td>1 year</td>\n",
              "      <td>RENT</td>\n",
              "      <td>80000.0</td>\n",
              "      <td>Source Verified</td>\n",
              "      <td>Dec-11</td>\n",
              "      <td>Current</td>\n",
              "      <td>n</td>\n",
              "      <td>https://www.lendingclub.com/browse/loanDetail....</td>\n",
              "      <td>Borrower added on 12/21/11 &gt; I plan on combi...</td>\n",
              "      <td>other</td>\n",
              "      <td>Personal</td>\n",
              "      <td>972xx</td>\n",
              "      <td>OR</td>\n",
              "      <td>17.94</td>\n",
              "      <td>0.0</td>\n",
              "      <td>Jan-96</td>\n",
              "      <td>0.0</td>\n",
              "      <td>38.0</td>\n",
              "      <td>NaN</td>\n",
              "      <td>15.0</td>\n",
              "      <td>0.0</td>\n",
              "      <td>27783</td>\n",
              "      <td>53.9</td>\n",
              "      <td>38.0</td>\n",
              "      <td>f</td>\n",
              "      <td>766.9</td>\n",
              "      <td>766.9</td>\n",
              "      <td>3242.170000</td>\n",
              "      <td>3242.17</td>\n",
              "      <td>2233.10</td>\n",
              "      <td>1009.07</td>\n",
              "      <td>0.00</td>\n",
              "      <td>0.00</td>\n",
              "      <td>0.00</td>\n",
              "      <td>Jan-16</td>\n",
              "      <td>67.79</td>\n",
              "      <td>Feb-16</td>\n",
              "      <td>Jan-16</td>\n",
              "      <td>0.0</td>\n",
              "      <td>NaN</td>\n",
              "      <td>1</td>\n",
              "      <td>INDIVIDUAL</td>\n",
              "      <td>NaN</td>\n",
              "      <td>NaN</td>\n",
              "      <td>NaN</td>\n",
              "      <td>0.0</td>\n",
              "      <td>NaN</td>\n",
              "      <td>NaN</td>\n",
              "      <td>NaN</td>\n",
              "      <td>NaN</td>\n",
              "      <td>NaN</td>\n",
              "      <td>NaN</td>\n",
              "      <td>NaN</td>\n",
              "      <td>NaN</td>\n",
              "      <td>NaN</td>\n",
              "      <td>NaN</td>\n",
              "      <td>NaN</td>\n",
              "      <td>NaN</td>\n",
              "      <td>NaN</td>\n",
              "      <td>NaN</td>\n",
              "      <td>NaN</td>\n",
              "      <td>NaN</td>\n",
              "      <td>NaN</td>\n",
              "    </tr>\n",
              "  </tbody>\n",
              "</table>\n",
              "</div>\n",
              "      <button class=\"colab-df-convert\" onclick=\"convertToInteractive('df-f37713c7-74a5-46f1-8b5c-84f8581b8cdb')\"\n",
              "              title=\"Convert this dataframe to an interactive table.\"\n",
              "              style=\"display:none;\">\n",
              "        \n",
              "  <svg xmlns=\"http://www.w3.org/2000/svg\" height=\"24px\"viewBox=\"0 0 24 24\"\n",
              "       width=\"24px\">\n",
              "    <path d=\"M0 0h24v24H0V0z\" fill=\"none\"/>\n",
              "    <path d=\"M18.56 5.44l.94 2.06.94-2.06 2.06-.94-2.06-.94-.94-2.06-.94 2.06-2.06.94zm-11 1L8.5 8.5l.94-2.06 2.06-.94-2.06-.94L8.5 2.5l-.94 2.06-2.06.94zm10 10l.94 2.06.94-2.06 2.06-.94-2.06-.94-.94-2.06-.94 2.06-2.06.94z\"/><path d=\"M17.41 7.96l-1.37-1.37c-.4-.4-.92-.59-1.43-.59-.52 0-1.04.2-1.43.59L10.3 9.45l-7.72 7.72c-.78.78-.78 2.05 0 2.83L4 21.41c.39.39.9.59 1.41.59.51 0 1.02-.2 1.41-.59l7.78-7.78 2.81-2.81c.8-.78.8-2.07 0-2.86zM5.41 20L4 18.59l7.72-7.72 1.47 1.35L5.41 20z\"/>\n",
              "  </svg>\n",
              "      </button>\n",
              "      \n",
              "  <style>\n",
              "    .colab-df-container {\n",
              "      display:flex;\n",
              "      flex-wrap:wrap;\n",
              "      gap: 12px;\n",
              "    }\n",
              "\n",
              "    .colab-df-convert {\n",
              "      background-color: #E8F0FE;\n",
              "      border: none;\n",
              "      border-radius: 50%;\n",
              "      cursor: pointer;\n",
              "      display: none;\n",
              "      fill: #1967D2;\n",
              "      height: 32px;\n",
              "      padding: 0 0 0 0;\n",
              "      width: 32px;\n",
              "    }\n",
              "\n",
              "    .colab-df-convert:hover {\n",
              "      background-color: #E2EBFA;\n",
              "      box-shadow: 0px 1px 2px rgba(60, 64, 67, 0.3), 0px 1px 3px 1px rgba(60, 64, 67, 0.15);\n",
              "      fill: #174EA6;\n",
              "    }\n",
              "\n",
              "    [theme=dark] .colab-df-convert {\n",
              "      background-color: #3B4455;\n",
              "      fill: #D2E3FC;\n",
              "    }\n",
              "\n",
              "    [theme=dark] .colab-df-convert:hover {\n",
              "      background-color: #434B5C;\n",
              "      box-shadow: 0px 1px 3px 1px rgba(0, 0, 0, 0.15);\n",
              "      filter: drop-shadow(0px 1px 2px rgba(0, 0, 0, 0.3));\n",
              "      fill: #FFFFFF;\n",
              "    }\n",
              "  </style>\n",
              "\n",
              "      <script>\n",
              "        const buttonEl =\n",
              "          document.querySelector('#df-f37713c7-74a5-46f1-8b5c-84f8581b8cdb button.colab-df-convert');\n",
              "        buttonEl.style.display =\n",
              "          google.colab.kernel.accessAllowed ? 'block' : 'none';\n",
              "\n",
              "        async function convertToInteractive(key) {\n",
              "          const element = document.querySelector('#df-f37713c7-74a5-46f1-8b5c-84f8581b8cdb');\n",
              "          const dataTable =\n",
              "            await google.colab.kernel.invokeFunction('convertToInteractive',\n",
              "                                                     [key], {});\n",
              "          if (!dataTable) return;\n",
              "\n",
              "          const docLinkHtml = 'Like what you see? Visit the ' +\n",
              "            '<a target=\"_blank\" href=https://colab.research.google.com/notebooks/data_table.ipynb>data table notebook</a>'\n",
              "            + ' to learn more about interactive tables.';\n",
              "          element.innerHTML = '';\n",
              "          dataTable['output_type'] = 'display_data';\n",
              "          await google.colab.output.renderOutput(dataTable, element);\n",
              "          const docLink = document.createElement('div');\n",
              "          docLink.innerHTML = docLinkHtml;\n",
              "          element.appendChild(docLink);\n",
              "        }\n",
              "      </script>\n",
              "    </div>\n",
              "  </div>\n",
              "  "
            ]
          },
          "metadata": {},
          "execution_count": 9
        }
      ],
      "source": [
        "df.head()"
      ]
    },
    {
      "cell_type": "code",
      "execution_count": 10,
      "id": "56fbc8d0",
      "metadata": {
        "scrolled": true,
        "colab": {
          "base_uri": "https://localhost:8080/"
        },
        "id": "56fbc8d0",
        "outputId": "1fb247c4-46c1-4f8f-ffe3-8bc7da43f12b"
      },
      "outputs": [
        {
          "output_type": "execute_result",
          "data": {
            "text/plain": [
              "Index(['Unnamed: 0', 'id', 'member_id', 'loan_amnt', 'funded_amnt',\n",
              "       'funded_amnt_inv', 'term', 'int_rate', 'installment', 'grade',\n",
              "       'sub_grade', 'emp_title', 'emp_length', 'home_ownership', 'annual_inc',\n",
              "       'verification_status', 'issue_d', 'loan_status', 'pymnt_plan', 'url',\n",
              "       'desc', 'purpose', 'title', 'zip_code', 'addr_state', 'dti',\n",
              "       'delinq_2yrs', 'earliest_cr_line', 'inq_last_6mths',\n",
              "       'mths_since_last_delinq', 'mths_since_last_record', 'open_acc',\n",
              "       'pub_rec', 'revol_bal', 'revol_util', 'total_acc',\n",
              "       'initial_list_status', 'out_prncp', 'out_prncp_inv', 'total_pymnt',\n",
              "       'total_pymnt_inv', 'total_rec_prncp', 'total_rec_int',\n",
              "       'total_rec_late_fee', 'recoveries', 'collection_recovery_fee',\n",
              "       'last_pymnt_d', 'last_pymnt_amnt', 'next_pymnt_d', 'last_credit_pull_d',\n",
              "       'collections_12_mths_ex_med', 'mths_since_last_major_derog',\n",
              "       'policy_code', 'application_type', 'annual_inc_joint', 'dti_joint',\n",
              "       'verification_status_joint', 'acc_now_delinq', 'tot_coll_amt',\n",
              "       'tot_cur_bal', 'open_acc_6m', 'open_il_6m', 'open_il_12m',\n",
              "       'open_il_24m', 'mths_since_rcnt_il', 'total_bal_il', 'il_util',\n",
              "       'open_rv_12m', 'open_rv_24m', 'max_bal_bc', 'all_util',\n",
              "       'total_rev_hi_lim', 'inq_fi', 'total_cu_tl', 'inq_last_12m'],\n",
              "      dtype='object')"
            ]
          },
          "metadata": {},
          "execution_count": 10
        }
      ],
      "source": [
        "df.columns"
      ]
    },
    {
      "cell_type": "code",
      "execution_count": 11,
      "id": "05f2a604",
      "metadata": {
        "colab": {
          "base_uri": "https://localhost:8080/"
        },
        "id": "05f2a604",
        "outputId": "80b5ea50-7cb6-46a3-8b3c-03e4bf11f835"
      },
      "outputs": [
        {
          "output_type": "execute_result",
          "data": {
            "text/plain": [
              "(466285, 75)"
            ]
          },
          "metadata": {},
          "execution_count": 11
        }
      ],
      "source": [
        "df.shape"
      ]
    },
    {
      "cell_type": "markdown",
      "id": "0db9d432",
      "metadata": {
        "id": "0db9d432"
      },
      "source": [
        "### 2. Data Cleaning\n",
        "#### Objectives\n",
        "- Remove Data from Unused Features\n",
        "- Drop / Replace Missing Values\n",
        "- Transform data into desirable data for analysis"
      ]
    },
    {
      "cell_type": "markdown",
      "id": "da9a9197-41a1-4e5e-a801-68ebbcbb53e5",
      "metadata": {
        "id": "da9a9197-41a1-4e5e-a801-68ebbcbb53e5"
      },
      "source": [
        "### 2.1 Remove Unused Feature"
      ]
    },
    {
      "cell_type": "code",
      "execution_count": 12,
      "id": "86557d48",
      "metadata": {
        "id": "86557d48"
      },
      "outputs": [],
      "source": [
        "# filter data from unused features\n",
        "df_filter = df[[\n",
        "    'funded_amnt',        #The total amount committed to that loan at that point in time.\n",
        "    'term',               #The number of payments on the loan. Values are in months and can be either 36 or 60.\n",
        "    'grade',              #LC assigned loan grade      \n",
        "    'emp_length',         #Employment length in years. Possible values are between 0 and 10 where 0 means less than one year and 10 means ten or more years. \n",
        "    'home_ownership',     #The home ownership status provided by the borrower during registration. Our values are: RENT, OWN, MORTGAGE, OTHER.\n",
        "    'annual_inc',         #The self-reported annual income provided by the borrower during registration.\n",
        "    'purpose',            #A category provided by the borrower for the loan request. \n",
        "    'open_acc',           #The number of open credit lines in the borrower's credit file.\n",
        "    'installment',        #The monthly payment owed by the borrower if the loan originates.\n",
        "    'loan_status'         #Current status of the loan   \n",
        "    ]]              \n"
      ]
    },
    {
      "cell_type": "code",
      "execution_count": 13,
      "id": "4756fa28-f2ee-43e7-8a01-204ed41d3111",
      "metadata": {
        "colab": {
          "base_uri": "https://localhost:8080/"
        },
        "id": "4756fa28-f2ee-43e7-8a01-204ed41d3111",
        "outputId": "8fc45a14-3191-40cf-c7f9-0607368fb52f"
      },
      "outputs": [
        {
          "output_type": "stream",
          "name": "stdout",
          "text": [
            "<class 'pandas.core.frame.DataFrame'>\n",
            "RangeIndex: 466285 entries, 0 to 466284\n",
            "Data columns (total 10 columns):\n",
            " #   Column          Non-Null Count   Dtype  \n",
            "---  ------          --------------   -----  \n",
            " 0   funded_amnt     466285 non-null  int64  \n",
            " 1   term            466285 non-null  object \n",
            " 2   grade           466285 non-null  object \n",
            " 3   emp_length      445277 non-null  object \n",
            " 4   home_ownership  466285 non-null  object \n",
            " 5   annual_inc      466281 non-null  float64\n",
            " 6   purpose         466285 non-null  object \n",
            " 7   open_acc        466256 non-null  float64\n",
            " 8   installment     466285 non-null  float64\n",
            " 9   loan_status     466285 non-null  object \n",
            "dtypes: float64(3), int64(1), object(6)\n",
            "memory usage: 35.6+ MB\n"
          ]
        }
      ],
      "source": [
        "df_filter.info()"
      ]
    },
    {
      "cell_type": "markdown",
      "id": "3c15650e-06e1-4513-bfe1-eae297960ef7",
      "metadata": {
        "id": "3c15650e-06e1-4513-bfe1-eae297960ef7"
      },
      "source": [
        "### 2.2 Drop / Replace Missing Values"
      ]
    },
    {
      "cell_type": "code",
      "execution_count": 14,
      "id": "4e680c71-bc88-46be-88f4-2af99f22d111",
      "metadata": {
        "colab": {
          "base_uri": "https://localhost:8080/"
        },
        "id": "4e680c71-bc88-46be-88f4-2af99f22d111",
        "outputId": "bf4ad7cf-89f3-4184-917b-0c4934882b5f"
      },
      "outputs": [
        {
          "output_type": "execute_result",
          "data": {
            "text/plain": [
              "funded_amnt           0\n",
              "term                  0\n",
              "grade                 0\n",
              "emp_length        21008\n",
              "home_ownership        0\n",
              "annual_inc            4\n",
              "purpose               0\n",
              "open_acc             29\n",
              "installment           0\n",
              "loan_status           0\n",
              "dtype: int64"
            ]
          },
          "metadata": {},
          "execution_count": 14
        }
      ],
      "source": [
        "# check any missing values\n",
        "df_filter.isnull().sum()"
      ]
    },
    {
      "cell_type": "code",
      "execution_count": 15,
      "id": "ebcfc6dd-98b1-4d38-83fe-51971ac5d1ae",
      "metadata": {
        "id": "ebcfc6dd-98b1-4d38-83fe-51971ac5d1ae"
      },
      "outputs": [],
      "source": [
        "# drop missing values\n",
        "df_filter= df_filter.dropna()"
      ]
    },
    {
      "cell_type": "code",
      "execution_count": 16,
      "id": "819eacef-9aaf-42ee-96e8-02da65805915",
      "metadata": {
        "colab": {
          "base_uri": "https://localhost:8080/"
        },
        "id": "819eacef-9aaf-42ee-96e8-02da65805915",
        "outputId": "f98eb32a-f268-4f76-da4a-b9de0f0b5612"
      },
      "outputs": [
        {
          "output_type": "execute_result",
          "data": {
            "text/plain": [
              "funded_amnt       0\n",
              "term              0\n",
              "grade             0\n",
              "emp_length        0\n",
              "home_ownership    0\n",
              "annual_inc        0\n",
              "purpose           0\n",
              "open_acc          0\n",
              "installment       0\n",
              "loan_status       0\n",
              "dtype: int64"
            ]
          },
          "metadata": {},
          "execution_count": 16
        }
      ],
      "source": [
        "# check any missing values\n",
        "df_filter.isnull().sum()"
      ]
    },
    {
      "cell_type": "markdown",
      "id": "ab809153-7580-4510-9b86-8bf2ca196a65",
      "metadata": {
        "id": "ab809153-7580-4510-9b86-8bf2ca196a65"
      },
      "source": [
        "### 2.3 Transform Data"
      ]
    },
    {
      "cell_type": "code",
      "execution_count": 17,
      "id": "c78a7842-552c-429c-87c3-bbaba2d2b739",
      "metadata": {
        "colab": {
          "base_uri": "https://localhost:8080/"
        },
        "id": "c78a7842-552c-429c-87c3-bbaba2d2b739",
        "outputId": "97cecfe1-5b01-4163-d411-6eaf5b257fe7"
      },
      "outputs": [
        {
          "output_type": "execute_result",
          "data": {
            "text/plain": [
              "(445248, 10)"
            ]
          },
          "metadata": {},
          "execution_count": 17
        }
      ],
      "source": [
        "# check number of rows & columns of data\n",
        "df_filter.shape"
      ]
    },
    {
      "cell_type": "code",
      "execution_count": 29,
      "id": "5f18eaed-5e60-42f5-a1b9-8026245bc780",
      "metadata": {
        "id": "5f18eaed-5e60-42f5-a1b9-8026245bc780"
      },
      "outputs": [],
      "source": [
        "# transform loan_status into loan_status_num with 0 (Credit risk low) & 1 (Credit risk high) value\n",
        "df_filter['credit_risk'] = df_filter['loan_status'].replace(['Fully Paid', 'Current', \n",
        "                                                             'Does not meet the credit policy. Status:Fully Paid'], 'low').replace(\n",
        "    ['Charged Off', 'Late (31-120 days)','In Grace Period','Default', 'Late (16-30 days)', 'Does not meet the credit policy. Status:Charged Off'], 'high')\n",
        "\n",
        "# convert open_acc datatype into int\n",
        "df_filter['open_acc'] = df_filter['open_acc'].astype('int64')\n",
        "\n",
        "# convert installment datatype into int\n",
        "df_filter['installment'] = df_filter['installment'].astype('int64')"
      ]
    },
    {
      "cell_type": "markdown",
      "id": "61260578",
      "metadata": {
        "id": "61260578"
      },
      "source": [
        "### 3. Exploratory Data Analysis\n",
        "\n",
        "#### Objectives \n",
        "* Visualize Distributions of numerical values\n",
        "* Visualize Frequency of Categorical Values\n",
        "* Visualize Distribution Loan Status\n",
        "* Further Visualization"
      ]
    },
    {
      "cell_type": "code",
      "execution_count": 31,
      "id": "8ec146f2-1247-443f-b769-49ed984e8a48",
      "metadata": {
        "tags": [],
        "colab": {
          "base_uri": "https://localhost:8080/"
        },
        "id": "8ec146f2-1247-443f-b769-49ed984e8a48",
        "outputId": "e8999ae7-8e50-425e-cd6e-223a986ef312"
      },
      "outputs": [
        {
          "output_type": "stream",
          "name": "stdout",
          "text": [
            "emp_length\n",
            "10+ years    150046\n",
            "2 years       41372\n",
            "3 years       36594\n",
            "< 1 year      36247\n",
            "5 years       30774\n",
            "              ...  \n",
            "4 years       28023\n",
            "7 years       26180\n",
            "6 years       26111\n",
            "8 years       22395\n",
            "9 years       17887\n",
            "Name: emp_length, Length: 11, dtype: int64\n",
            "grade\n",
            "B    130790\n",
            "C    119463\n",
            "D     73198\n",
            "A     71773\n",
            "E     34137\n",
            "F     12678\n",
            "G      3209\n",
            "Name: grade, dtype: int64\n",
            "term\n",
            " 36 months    320728\n",
            " 60 months    124520\n",
            "Name: term, dtype: int64\n",
            "grade\n",
            "B    130790\n",
            "C    119463\n",
            "D     73198\n",
            "A     71773\n",
            "E     34137\n",
            "F     12678\n",
            "G      3209\n",
            "Name: grade, dtype: int64\n",
            "home_ownership\n",
            "MORTGAGE    226005\n",
            "RENT        181001\n",
            "OWN          38017\n",
            "OTHER          179\n",
            "NONE            45\n",
            "ANY              1\n",
            "Name: home_ownership, dtype: int64\n",
            "purpose\n",
            "debt_consolidation    262853\n",
            "credit_card            98963\n",
            "home_improvement       25017\n",
            "other                  22292\n",
            "major_purchase          9385\n",
            "                       ...  \n",
            "vacation                2326\n",
            "wedding                 2311\n",
            "house                   2177\n",
            "educational              413\n",
            "renewable_energy         331\n",
            "Name: purpose, Length: 14, dtype: int64\n",
            "loan_status\n",
            "Current                                                212545\n",
            "Fully Paid                                             178388\n",
            "Charged Off                                             40153\n",
            "Late (31-120 days)                                       6499\n",
            "In Grace Period                                          3044\n",
            "Does not meet the credit policy. Status:Fully Paid       1943\n",
            "Late (16-30 days)                                        1149\n",
            "Default                                                   784\n",
            "Does not meet the credit policy. Status:Charged Off       743\n",
            "Name: loan_status, dtype: int64\n"
          ]
        }
      ],
      "source": [
        "# create function\n",
        "def distinct_values(x):\n",
        "    print(x)\n",
        "    print(df_filter[x].value_counts())\n",
        "    \n",
        "# print object values\n",
        "distinct_values('emp_length')\n",
        "distinct_values('grade')\n",
        "distinct_values('term')\n",
        "distinct_values('grade')\n",
        "distinct_values('home_ownership')\n",
        "distinct_values('purpose')\n",
        "distinct_values('loan_status')"
      ]
    },
    {
      "cell_type": "code",
      "execution_count": 32,
      "id": "6f456484-956d-4937-9e7b-2e90e04f2fe5",
      "metadata": {
        "colab": {
          "base_uri": "https://localhost:8080/"
        },
        "id": "6f456484-956d-4937-9e7b-2e90e04f2fe5",
        "outputId": "7ad8d399-4d85-46a7-a684-417c926b9114"
      },
      "outputs": [
        {
          "output_type": "stream",
          "name": "stdout",
          "text": [
            "<class 'pandas.core.frame.DataFrame'>\n",
            "Int64Index: 445248 entries, 0 to 466284\n",
            "Data columns (total 11 columns):\n",
            " #   Column          Non-Null Count   Dtype  \n",
            "---  ------          --------------   -----  \n",
            " 0   funded_amnt     445248 non-null  int64  \n",
            " 1   term            445248 non-null  object \n",
            " 2   grade           445248 non-null  object \n",
            " 3   emp_length      445248 non-null  object \n",
            " 4   home_ownership  445248 non-null  object \n",
            " 5   annual_inc      445248 non-null  float64\n",
            " 6   purpose         445248 non-null  object \n",
            " 7   open_acc        445248 non-null  int64  \n",
            " 8   installment     445248 non-null  int64  \n",
            " 9   loan_status     445248 non-null  object \n",
            " 10  credit_risk     445248 non-null  object \n",
            "dtypes: float64(1), int64(3), object(7)\n",
            "memory usage: 56.9+ MB\n"
          ]
        }
      ],
      "source": [
        "df_filter.info()"
      ]
    },
    {
      "cell_type": "markdown",
      "id": "aac37cfe-2a3f-49cd-aaac-1894293ad525",
      "metadata": {
        "id": "aac37cfe-2a3f-49cd-aaac-1894293ad525"
      },
      "source": [
        "### 3.1 Visualize Distributions of Numerical Data"
      ]
    },
    {
      "cell_type": "code",
      "execution_count": 22,
      "id": "8672571c-ae1e-478e-a55f-9e1648dea5f7",
      "metadata": {
        "colab": {
          "base_uri": "https://localhost:8080/",
          "height": 431
        },
        "id": "8672571c-ae1e-478e-a55f-9e1648dea5f7",
        "outputId": "c938ebea-1516-4774-efeb-c297c05430ee"
      },
      "outputs": [
        {
          "output_type": "display_data",
          "data": {
            "text/plain": [
              "<Figure size 1440x432 with 4 Axes>"
            ],
            "image/png": "[encoded data removed]"
          },
          "metadata": {
            "needs_background": "light"
          }
        }
      ],
      "source": [
        "def hist(x, y, z):\n",
        "    sns.distplot(df_filter[x], color='b', ax=ax[y, z])\n",
        "\n",
        "#create custom function\n",
        "fig, ax = plt.subplots(2, 2, figsize=(20, 6))\n",
        "plt.suptitle('Numerical Data Distribution', size = 20)\n",
        "\n",
        "hist('funded_amnt', 0, 0)\n",
        "hist('annual_inc', 0, 1)\n",
        "hist('open_acc', 1, 0)\n",
        "hist('installment', 1, 1)\n",
        "\n",
        "plt.show()"
      ]
    },
    {
      "cell_type": "markdown",
      "id": "6d2e4da1-c38a-471e-95d9-8db889cc71b8",
      "metadata": {
        "id": "6d2e4da1-c38a-471e-95d9-8db889cc71b8"
      },
      "source": [
        "### 3.2 Visualize Frequencey of Categorical / Discrete Data"
      ]
    },
    {
      "cell_type": "code",
      "source": [
        "df_filter['term'].value_counts()"
      ],
      "metadata": {
        "colab": {
          "base_uri": "https://localhost:8080/"
        },
        "id": "P41RZOwtkNgh",
        "outputId": "79ab1e1c-acc4-4847-8921-806237e80bdb"
      },
      "id": "P41RZOwtkNgh",
      "execution_count": 23,
      "outputs": [
        {
          "output_type": "execute_result",
          "data": {
            "text/plain": [
              " 36 months    320728\n",
              " 60 months    124520\n",
              "Name: term, dtype: int64"
            ]
          },
          "metadata": {},
          "execution_count": 23
        }
      ]
    },
    {
      "cell_type": "code",
      "execution_count": 24,
      "id": "7945416a-3746-4bb3-9ac1-7d286460bdf9",
      "metadata": {
        "colab": {
          "base_uri": "https://localhost:8080/",
          "height": 1000
        },
        "id": "7945416a-3746-4bb3-9ac1-7d286460bdf9",
        "outputId": "801370bb-7502-42db-8ed5-0f3a23a8771c"
      },
      "outputs": [
        {
          "output_type": "display_data",
          "data": {
            "text/plain": [
              "<Figure size 1440x1440 with 6 Axes>"
            ],
            "image/png": "[encoded data removed]"
          },
          "metadata": {
            "needs_background": "light"
          }
        }
      ],
      "source": [
        "fig, ax = plt.subplots(3, 2, figsize=(20, 20))\n",
        "plt.suptitle('Categorical / Discrete Data Frequency', size = 20)\n",
        "\n",
        "#create custom function\n",
        "def countplot(x, y, z):\n",
        "    sns.countplot(df_filter[x], palette='BuPu', ax=ax[y, z])\n",
        "\n",
        "countplot('term', 0, 0)\n",
        "countplot('grade',0, 1)\n",
        "countplot('emp_length', 1,0)\n",
        "countplot('home_ownership', 1, 1)\n",
        "countplot('purpose', 2,0)\n",
        "\n",
        "for ax in ax.flatten():\n",
        "    plt.sca(ax)\n",
        "    plt.xticks(rotation = 90)"
      ]
    },
    {
      "cell_type": "markdown",
      "id": "71e36c62-8d33-4727-aadb-188bc98a31d0",
      "metadata": {
        "id": "71e36c62-8d33-4727-aadb-188bc98a31d0"
      },
      "source": [
        "### 3.3 Further Visualizations"
      ]
    },
    {
      "cell_type": "markdown",
      "id": "0e43c16c-eae3-49aa-9dd8-5ce27a7471eb",
      "metadata": {
        "id": "0e43c16c-eae3-49aa-9dd8-5ce27a7471eb"
      },
      "source": [
        "#### Loan Status (Target Variables)"
      ]
    },
    {
      "cell_type": "code",
      "execution_count": 33,
      "id": "66a3274d-df0b-47cc-97b4-e6739376211f",
      "metadata": {
        "colab": {
          "base_uri": "https://localhost:8080/",
          "height": 606
        },
        "id": "66a3274d-df0b-47cc-97b4-e6739376211f",
        "outputId": "780dd218-86bc-4630-d85c-65326a6bd4de"
      },
      "outputs": [
        {
          "output_type": "display_data",
          "data": {
            "text/plain": [
              "<Figure size 576x720 with 1 Axes>"
            ],
            "image/png": "[encoded data removed]"
          },
          "metadata": {
            "needs_background": "light"
          }
        }
      ],
      "source": [
        "plt.figure(figsize=(8, 10))\n",
        "\n",
        "# create custom function\n",
        "ax = sns.countplot(x = df_filter['credit_risk'], palette = 'BuPu_r')\n",
        "for p in ax.patches:\n",
        "   ax.annotate('{:.1f}'.format(p.get_height()), (p.get_x()+0.25, p.get_height()+0.01))\n",
        "\n",
        "plt.show()"
      ]
    },
    {
      "cell_type": "markdown",
      "id": "6bd9bf00-2193-4389-b6f3-b51396ef9eef",
      "metadata": {
        "tags": [],
        "id": "6bd9bf00-2193-4389-b6f3-b51396ef9eef"
      },
      "source": [
        "### Which Data Most Affected Loan Status (Target Variable) ?"
      ]
    },
    {
      "cell_type": "markdown",
      "id": "8d679faa-1949-437d-a50c-0684f9416706",
      "metadata": {
        "id": "8d679faa-1949-437d-a50c-0684f9416706"
      },
      "source": [
        "#### Loan Status Vs Numerical Data Distribution"
      ]
    },
    {
      "cell_type": "code",
      "source": [
        "df_filter['credit_risk'].value_counts()"
      ],
      "metadata": {
        "colab": {
          "base_uri": "https://localhost:8080/"
        },
        "id": "RRfgdGe8kl28",
        "outputId": "cf6f0198-b8fe-4592-8674-79b8e3d86be8"
      },
      "id": "RRfgdGe8kl28",
      "execution_count": 27,
      "outputs": [
        {
          "output_type": "execute_result",
          "data": {
            "text/plain": [
              "low                                                    390933\n",
              "high                                                    50480\n",
              "Does not meet the credit policy. Status:Fully Paid       1943\n",
              "Late (16-30 days)                                        1149\n",
              "Does not meet the credit policy. Status:Charged Off       743\n",
              "Name: credit_risk, dtype: int64"
            ]
          },
          "metadata": {},
          "execution_count": 27
        }
      ]
    },
    {
      "cell_type": "code",
      "execution_count": 34,
      "id": "4ec14460-63e7-454f-a929-d60a78092722",
      "metadata": {
        "colab": {
          "base_uri": "https://localhost:8080/",
          "height": 1000
        },
        "id": "4ec14460-63e7-454f-a929-d60a78092722",
        "outputId": "c3774d8a-2981-4202-c6be-28fa5f026141"
      },
      "outputs": [
        {
          "output_type": "display_data",
          "data": {
            "text/plain": [
              "<Figure size 419.625x360 with 1 Axes>"
            ],
            "image/png": "[encoded data removed]"
          },
          "metadata": {
            "needs_background": "light"
          }
        },
        {
          "output_type": "display_data",
          "data": {
            "text/plain": [
              "<Figure size 419.625x360 with 1 Axes>"
            ],
            "image/png": "[encoded data removed]"
          },
          "metadata": {
            "needs_background": "light"
          }
        },
        {
          "output_type": "display_data",
          "data": {
            "text/plain": [
              "<Figure size 419.625x360 with 1 Axes>"
            ],
            "image/png": "[encoded data removed]"
          },
          "metadata": {
            "needs_background": "light"
          }
        },
        {
          "output_type": "display_data",
          "data": {
            "text/plain": [
              "<Figure size 419.625x360 with 1 Axes>"
            ],
            "image/png": "[encoded data removed]"
          },
          "metadata": {
            "needs_background": "light"
          }
        }
      ],
      "source": [
        "def hist_loanstat(x, y, z):\n",
        "    sns.displot(df_filter, x=x, hue='credit_risk', color='b', element='step')\n",
        "\n",
        "hist_loanstat('funded_amnt', 0, 0)\n",
        "hist_loanstat('annual_inc', 0, 1)\n",
        "hist_loanstat('open_acc', 1, 0)\n",
        "hist_loanstat('installment', 1, 1)"
      ]
    },
    {
      "cell_type": "markdown",
      "id": "e71ff48d-89db-4130-8882-0e36280ddc64",
      "metadata": {
        "id": "e71ff48d-89db-4130-8882-0e36280ddc64"
      },
      "source": [
        "### Loan Status Vs Categorical Data Distribution"
      ]
    },
    {
      "cell_type": "code",
      "execution_count": 35,
      "id": "f2b6ba02-dc1f-4dee-aa0d-37774dd62f75",
      "metadata": {
        "colab": {
          "base_uri": "https://localhost:8080/",
          "height": 1000
        },
        "id": "f2b6ba02-dc1f-4dee-aa0d-37774dd62f75",
        "outputId": "63ab7b1a-f31f-40e6-be12-85b38d6d592d"
      },
      "outputs": [
        {
          "output_type": "display_data",
          "data": {
            "text/plain": [
              "<Figure size 1440x1440 with 6 Axes>"
            ],
            "image/png": "[encoded data removed]"
          },
          "metadata": {
            "needs_background": "light"
          }
        }
      ],
      "source": [
        "fig, ax = plt.subplots(3, 2, figsize=(20, 20))\n",
        "plt.suptitle('Categorical / Discrete Data Frequency', size = 20)\n",
        "\n",
        "#create custom function\n",
        "def countplot(x, y, z):\n",
        "    sns.countplot(df_filter[x], hue= df_filter['credit_risk'],palette='BuPu', ax=ax[y, z])\n",
        "\n",
        "countplot('term', 0, 0)\n",
        "countplot('grade',0, 1)\n",
        "countplot('emp_length', 1,0)\n",
        "countplot('home_ownership', 1, 1)\n",
        "countplot('purpose', 2,0)\n",
        "\n",
        "for ax in ax.flatten():\n",
        "    plt.sca(ax)\n",
        "    plt.xticks(rotation = 90)"
      ]
    },
    {
      "cell_type": "markdown",
      "id": "4580d800",
      "metadata": {
        "id": "4580d800"
      },
      "source": [
        "### 4. Data Preprocessing\n",
        "\n",
        "#### Objectives \n",
        "* Split Data into X & y\n",
        "* Label Encoding, One Hot Encoding & Standardizing"
      ]
    },
    {
      "cell_type": "markdown",
      "id": "188737d2-7dc9-43e2-9e2d-02f58783f530",
      "metadata": {
        "id": "188737d2-7dc9-43e2-9e2d-02f58783f530"
      },
      "source": [
        "### 4.1 Split Data into X & y"
      ]
    },
    {
      "cell_type": "code",
      "execution_count": 36,
      "id": "dd24da73",
      "metadata": {
        "id": "dd24da73"
      },
      "outputs": [],
      "source": [
        "X = df_filter.drop(['loan_status', 'credit_risk'], axis=1)\n",
        "y = df_filter['credit_risk']"
      ]
    },
    {
      "cell_type": "code",
      "execution_count": 37,
      "id": "53e691ae-be63-4c9b-a46c-df01d0fbf991",
      "metadata": {
        "colab": {
          "base_uri": "https://localhost:8080/"
        },
        "id": "53e691ae-be63-4c9b-a46c-df01d0fbf991",
        "outputId": "69db8ad2-0558-4f65-ebf4-ad6c1889cd2c"
      },
      "outputs": [
        {
          "output_type": "execute_result",
          "data": {
            "text/plain": [
              "(445248,)"
            ]
          },
          "metadata": {},
          "execution_count": 37
        }
      ],
      "source": [
        "y.shape"
      ]
    },
    {
      "cell_type": "markdown",
      "id": "7677672d-3afd-4b05-b048-61e9f08fee77",
      "metadata": {
        "id": "7677672d-3afd-4b05-b048-61e9f08fee77"
      },
      "source": [
        "### 4.2 Label Encoding & Standardizing"
      ]
    },
    {
      "cell_type": "code",
      "execution_count": 38,
      "id": "13bf7445-c65a-465a-9558-49ca6f9f9214",
      "metadata": {
        "colab": {
          "base_uri": "https://localhost:8080/"
        },
        "id": "13bf7445-c65a-465a-9558-49ca6f9f9214",
        "outputId": "f613f2fb-4edc-41f9-cd38-ff31517a640b"
      },
      "outputs": [
        {
          "output_type": "stream",
          "name": "stdout",
          "text": [
            "<class 'pandas.core.frame.DataFrame'>\n",
            "Int64Index: 445248 entries, 0 to 466284\n",
            "Data columns (total 9 columns):\n",
            " #   Column          Non-Null Count   Dtype  \n",
            "---  ------          --------------   -----  \n",
            " 0   funded_amnt     445248 non-null  int64  \n",
            " 1   term            445248 non-null  object \n",
            " 2   grade           445248 non-null  object \n",
            " 3   emp_length      445248 non-null  object \n",
            " 4   home_ownership  445248 non-null  object \n",
            " 5   annual_inc      445248 non-null  float64\n",
            " 6   purpose         445248 non-null  object \n",
            " 7   open_acc        445248 non-null  int64  \n",
            " 8   installment     445248 non-null  int64  \n",
            "dtypes: float64(1), int64(3), object(5)\n",
            "memory usage: 50.1+ MB\n"
          ]
        }
      ],
      "source": [
        "X.info()"
      ]
    },
    {
      "cell_type": "code",
      "execution_count": 39,
      "id": "8618cad9-b765-4c3e-a308-2b72a5b42300",
      "metadata": {
        "id": "8618cad9-b765-4c3e-a308-2b72a5b42300"
      },
      "outputs": [],
      "source": [
        "# encode categorical data\n",
        "from sklearn.preprocessing import LabelEncoder, OneHotEncoder\n",
        "\n",
        "le = LabelEncoder()\n",
        "X.iloc[:, 1] = le.fit_transform(X.iloc[:, 1])\n",
        "X.iloc[:, 2] = le.fit_transform(X.iloc[:, 2])\n",
        "X.iloc[:, 3] = le.fit_transform(X.iloc[:, 3])\n",
        "X.iloc[:, 4] = le.fit_transform(X.iloc[:, 4])\n",
        "X.iloc[:, 6] = le.fit_transform(X.iloc[:, 5])\n",
        "y = le.fit_transform(y)\n",
        "y = np.array(y).reshape(-1, 1)"
      ]
    },
    {
      "cell_type": "code",
      "execution_count": 40,
      "id": "851a0f84-5881-4b83-a3b6-ddfd9099d044",
      "metadata": {
        "colab": {
          "base_uri": "https://localhost:8080/",
          "height": 206
        },
        "id": "851a0f84-5881-4b83-a3b6-ddfd9099d044",
        "outputId": "2f188c5a-1f4d-4823-8b94-d38bc279d001"
      },
      "outputs": [
        {
          "output_type": "execute_result",
          "data": {
            "text/plain": [
              "   funded_amnt  term  grade  emp_length  home_ownership  annual_inc  purpose  \\\n",
              "0         5000     0      1           1               5     24000.0     1068   \n",
              "1         2500     1      2          10               5     30000.0     2341   \n",
              "2         2400     0      2           1               5     12252.0      107   \n",
              "3        10000     0      2           1               5     49200.0     9116   \n",
              "4         3000     1      1           0               5     80000.0    19275   \n",
              "\n",
              "   open_acc  installment  \n",
              "0         3          162  \n",
              "1         3           59  \n",
              "2         2           84  \n",
              "3        10          339  \n",
              "4        15           67  "
            ],
            "text/html": [
              "\n",
              "  <div id=\"df-22a2f332-e15c-42c6-90ff-dc8cd42b579e\">\n",
              "    <div class=\"colab-df-container\">\n",
              "      <div>\n",
              "<style scoped>\n",
              "    .dataframe tbody tr th:only-of-type {\n",
              "        vertical-align: middle;\n",
              "    }\n",
              "\n",
              "    .dataframe tbody tr th {\n",
              "        vertical-align: top;\n",
              "    }\n",
              "\n",
              "    .dataframe thead th {\n",
              "        text-align: right;\n",
              "    }\n",
              "</style>\n",
              "<table border=\"1\" class=\"dataframe\">\n",
              "  <thead>\n",
              "    <tr style=\"text-align: right;\">\n",
              "      <th></th>\n",
              "      <th>funded_amnt</th>\n",
              "      <th>term</th>\n",
              "      <th>grade</th>\n",
              "      <th>emp_length</th>\n",
              "      <th>home_ownership</th>\n",
              "      <th>annual_inc</th>\n",
              "      <th>purpose</th>\n",
              "      <th>open_acc</th>\n",
              "      <th>installment</th>\n",
              "    </tr>\n",
              "  </thead>\n",
              "  <tbody>\n",
              "    <tr>\n",
              "      <th>0</th>\n",
              "      <td>5000</td>\n",
              "      <td>0</td>\n",
              "      <td>1</td>\n",
              "      <td>1</td>\n",
              "      <td>5</td>\n",
              "      <td>24000.0</td>\n",
              "      <td>1068</td>\n",
              "      <td>3</td>\n",
              "      <td>162</td>\n",
              "    </tr>\n",
              "    <tr>\n",
              "      <th>1</th>\n",
              "      <td>2500</td>\n",
              "      <td>1</td>\n",
              "      <td>2</td>\n",
              "      <td>10</td>\n",
              "      <td>5</td>\n",
              "      <td>30000.0</td>\n",
              "      <td>2341</td>\n",
              "      <td>3</td>\n",
              "      <td>59</td>\n",
              "    </tr>\n",
              "    <tr>\n",
              "      <th>2</th>\n",
              "      <td>2400</td>\n",
              "      <td>0</td>\n",
              "      <td>2</td>\n",
              "      <td>1</td>\n",
              "      <td>5</td>\n",
              "      <td>12252.0</td>\n",
              "      <td>107</td>\n",
              "      <td>2</td>\n",
              "      <td>84</td>\n",
              "    </tr>\n",
              "    <tr>\n",
              "      <th>3</th>\n",
              "      <td>10000</td>\n",
              "      <td>0</td>\n",
              "      <td>2</td>\n",
              "      <td>1</td>\n",
              "      <td>5</td>\n",
              "      <td>49200.0</td>\n",
              "      <td>9116</td>\n",
              "      <td>10</td>\n",
              "      <td>339</td>\n",
              "    </tr>\n",
              "    <tr>\n",
              "      <th>4</th>\n",
              "      <td>3000</td>\n",
              "      <td>1</td>\n",
              "      <td>1</td>\n",
              "      <td>0</td>\n",
              "      <td>5</td>\n",
              "      <td>80000.0</td>\n",
              "      <td>19275</td>\n",
              "      <td>15</td>\n",
              "      <td>67</td>\n",
              "    </tr>\n",
              "  </tbody>\n",
              "</table>\n",
              "</div>\n",
              "      <button class=\"colab-df-convert\" onclick=\"convertToInteractive('df-22a2f332-e15c-42c6-90ff-dc8cd42b579e')\"\n",
              "              title=\"Convert this dataframe to an interactive table.\"\n",
              "              style=\"display:none;\">\n",
              "        \n",
              "  <svg xmlns=\"http://www.w3.org/2000/svg\" height=\"24px\"viewBox=\"0 0 24 24\"\n",
              "       width=\"24px\">\n",
              "    <path d=\"M0 0h24v24H0V0z\" fill=\"none\"/>\n",
              "    <path d=\"M18.56 5.44l.94 2.06.94-2.06 2.06-.94-2.06-.94-.94-2.06-.94 2.06-2.06.94zm-11 1L8.5 8.5l.94-2.06 2.06-.94-2.06-.94L8.5 2.5l-.94 2.06-2.06.94zm10 10l.94 2.06.94-2.06 2.06-.94-2.06-.94-.94-2.06-.94 2.06-2.06.94z\"/><path d=\"M17.41 7.96l-1.37-1.37c-.4-.4-.92-.59-1.43-.59-.52 0-1.04.2-1.43.59L10.3 9.45l-7.72 7.72c-.78.78-.78 2.05 0 2.83L4 21.41c.39.39.9.59 1.41.59.51 0 1.02-.2 1.41-.59l7.78-7.78 2.81-2.81c.8-.78.8-2.07 0-2.86zM5.41 20L4 18.59l7.72-7.72 1.47 1.35L5.41 20z\"/>\n",
              "  </svg>\n",
              "      </button>\n",
              "      \n",
              "  <style>\n",
              "    .colab-df-container {\n",
              "      display:flex;\n",
              "      flex-wrap:wrap;\n",
              "      gap: 12px;\n",
              "    }\n",
              "\n",
              "    .colab-df-convert {\n",
              "      background-color: #E8F0FE;\n",
              "      border: none;\n",
              "      border-radius: 50%;\n",
              "      cursor: pointer;\n",
              "      display: none;\n",
              "      fill: #1967D2;\n",
              "      height: 32px;\n",
              "      padding: 0 0 0 0;\n",
              "      width: 32px;\n",
              "    }\n",
              "\n",
              "    .colab-df-convert:hover {\n",
              "      background-color: #E2EBFA;\n",
              "      box-shadow: 0px 1px 2px rgba(60, 64, 67, 0.3), 0px 1px 3px 1px rgba(60, 64, 67, 0.15);\n",
              "      fill: #174EA6;\n",
              "    }\n",
              "\n",
              "    [theme=dark] .colab-df-convert {\n",
              "      background-color: #3B4455;\n",
              "      fill: #D2E3FC;\n",
              "    }\n",
              "\n",
              "    [theme=dark] .colab-df-convert:hover {\n",
              "      background-color: #434B5C;\n",
              "      box-shadow: 0px 1px 3px 1px rgba(0, 0, 0, 0.15);\n",
              "      filter: drop-shadow(0px 1px 2px rgba(0, 0, 0, 0.3));\n",
              "      fill: #FFFFFF;\n",
              "    }\n",
              "  </style>\n",
              "\n",
              "      <script>\n",
              "        const buttonEl =\n",
              "          document.querySelector('#df-22a2f332-e15c-42c6-90ff-dc8cd42b579e button.colab-df-convert');\n",
              "        buttonEl.style.display =\n",
              "          google.colab.kernel.accessAllowed ? 'block' : 'none';\n",
              "\n",
              "        async function convertToInteractive(key) {\n",
              "          const element = document.querySelector('#df-22a2f332-e15c-42c6-90ff-dc8cd42b579e');\n",
              "          const dataTable =\n",
              "            await google.colab.kernel.invokeFunction('convertToInteractive',\n",
              "                                                     [key], {});\n",
              "          if (!dataTable) return;\n",
              "\n",
              "          const docLinkHtml = 'Like what you see? Visit the ' +\n",
              "            '<a target=\"_blank\" href=https://colab.research.google.com/notebooks/data_table.ipynb>data table notebook</a>'\n",
              "            + ' to learn more about interactive tables.';\n",
              "          element.innerHTML = '';\n",
              "          dataTable['output_type'] = 'display_data';\n",
              "          await google.colab.output.renderOutput(dataTable, element);\n",
              "          const docLink = document.createElement('div');\n",
              "          docLink.innerHTML = docLinkHtml;\n",
              "          element.appendChild(docLink);\n",
              "        }\n",
              "      </script>\n",
              "    </div>\n",
              "  </div>\n",
              "  "
            ]
          },
          "metadata": {},
          "execution_count": 40
        }
      ],
      "source": [
        "X.head()"
      ]
    },
    {
      "cell_type": "code",
      "execution_count": 41,
      "id": "2ed22e8f-dfcc-4a04-bac8-0d27ba1a2941",
      "metadata": {
        "id": "2ed22e8f-dfcc-4a04-bac8-0d27ba1a2941"
      },
      "outputs": [],
      "source": [
        "# standardize X & y \n",
        "from sklearn.preprocessing import StandardScaler\n",
        "\n",
        "sc = StandardScaler()\n",
        "X_standard = sc.fit_transform(X)"
      ]
    },
    {
      "cell_type": "code",
      "execution_count": 42,
      "id": "14ff7caf-8ae5-4059-aff8-7493a1c3b3d0",
      "metadata": {
        "id": "14ff7caf-8ae5-4059-aff8-7493a1c3b3d0"
      },
      "outputs": [],
      "source": [
        "# splitting the dataset into training set and test set\n",
        "from sklearn.model_selection import train_test_split\n",
        "\n",
        "X_train, X_test, y_train, y_test = train_test_split(X_standard, y, test_size=0.3, random_state=42)"
      ]
    },
    {
      "cell_type": "markdown",
      "id": "2475a04a",
      "metadata": {
        "id": "2475a04a"
      },
      "source": [
        "### 5. Training & Testing Model"
      ]
    },
    {
      "cell_type": "code",
      "execution_count": 43,
      "id": "8e03e815-22c9-46ce-a6ba-c94ddb033a24",
      "metadata": {
        "id": "8e03e815-22c9-46ce-a6ba-c94ddb033a24"
      },
      "outputs": [],
      "source": [
        "from sklearn.ensemble import RandomForestRegressor\n",
        "regressor_rf = RandomForestRegressor(n_estimators = 100)"
      ]
    },
    {
      "cell_type": "code",
      "execution_count": 44,
      "id": "65b6f097",
      "metadata": {
        "id": "65b6f097"
      },
      "outputs": [],
      "source": [
        "# build random forest model\n",
        "from sklearn.ensemble import RandomForestClassifier\n",
        "\n",
        "rfc = RandomForestClassifier(n_estimators = 100)"
      ]
    },
    {
      "cell_type": "code",
      "execution_count": 45,
      "id": "00f878c4-a8cd-46ca-817f-0890ebfce0bb",
      "metadata": {
        "id": "00f878c4-a8cd-46ca-817f-0890ebfce0bb"
      },
      "outputs": [],
      "source": [
        "train = rfc.fit(X_train, y_train)"
      ]
    },
    {
      "cell_type": "markdown",
      "id": "5195d5f0",
      "metadata": {
        "id": "5195d5f0"
      },
      "source": [
        "### 6. Model Evaluation"
      ]
    },
    {
      "cell_type": "code",
      "execution_count": 46,
      "id": "14b26a33",
      "metadata": {
        "id": "14b26a33"
      },
      "outputs": [],
      "source": [
        "y_pred = rfc.predict(X_test)"
      ]
    },
    {
      "cell_type": "code",
      "execution_count": 47,
      "id": "9bc96c83-541b-49df-b0eb-87c1ea908ea7",
      "metadata": {
        "colab": {
          "base_uri": "https://localhost:8080/"
        },
        "id": "9bc96c83-541b-49df-b0eb-87c1ea908ea7",
        "outputId": "4f1552a1-b6d5-4e1c-fd7a-265ae3cac48d"
      },
      "outputs": [
        {
          "output_type": "stream",
          "name": "stdout",
          "text": [
            "Model Accuracy Score 0.8751263335204941\n",
            "              precision    recall  f1-score   support\n",
            "\n",
            "           0       0.21      0.02      0.04     15804\n",
            "           1       0.88      0.99      0.93    117771\n",
            "\n",
            "    accuracy                           0.88    133575\n",
            "   macro avg       0.55      0.50      0.48    133575\n",
            "weighted avg       0.80      0.88      0.83    133575\n",
            "\n"
          ]
        }
      ],
      "source": [
        "from sklearn.metrics import confusion_matrix\n",
        "from sklearn.metrics import classification_report\n",
        "from sklearn.metrics import accuracy_score\n",
        "\n",
        "acc = accuracy_score(y_test, y_pred, normalize=True)\n",
        "print(f'Model Accuracy Score {acc}')\n",
        "print(classification_report(y_test, y_pred))"
      ]
    },
    {
      "cell_type": "code",
      "execution_count": 48,
      "id": "37b6cefc-3e34-4239-9c63-eed4dec2e397",
      "metadata": {
        "colab": {
          "base_uri": "https://localhost:8080/",
          "height": 279
        },
        "id": "37b6cefc-3e34-4239-9c63-eed4dec2e397",
        "outputId": "6b0da0b3-1c90-4ac7-fcaa-65480476455e"
      },
      "outputs": [
        {
          "output_type": "display_data",
          "data": {
            "text/plain": [
              "<Figure size 432x288 with 2 Axes>"
            ],
            "image/png": "[encoded data removed]"
          },
          "metadata": {
            "needs_background": "light"
          }
        }
      ],
      "source": [
        "from sklearn import metrics\n",
        "\n",
        "confusion_matrix = metrics.confusion_matrix(y_test, y_pred)\n",
        "cm_display = metrics.ConfusionMatrixDisplay(confusion_matrix = confusion_matrix, display_labels= [False, True])\n",
        "\n",
        "cm_display.plot()\n",
        "plt.show()"
      ]
    }
  ],
  "metadata": {
    "kernelspec": {
      "display_name": "Python 3 (ipykernel)",
      "language": "python",
      "name": "python3"
    },
    "language_info": {
      "codemirror_mode": {
        "name": "ipython",
        "version": 3
      },
      "file_extension": ".py",
      "mimetype": "text/x-python",
      "name": "python",
      "nbconvert_exporter": "python",
      "pygments_lexer": "ipython3",
      "version": "3.10.5"
    },
    "colab": {
      "provenance": []
    }
  },
  "nbformat": 4,
  "nbformat_minor": 5
}